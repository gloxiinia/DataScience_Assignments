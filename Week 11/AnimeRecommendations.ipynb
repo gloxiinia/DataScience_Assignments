{
 "cells": [
  {
   "attachments": {},
   "cell_type": "markdown",
   "metadata": {},
   "source": [
    "Data Science Assignment : Recommendation Systems\n",
    "\n",
    "Dataset taken from: https://www.kaggle.com/datasets/CooperUnion/anime-recommendations-database"
   ]
  },
  {
   "cell_type": "code",
   "execution_count": 1,
   "metadata": {},
   "outputs": [],
   "source": [
    "import pandas as pd\n",
    "from math import sqrt\n",
    "import numpy as np"
   ]
  },
  {
   "attachments": {},
   "cell_type": "markdown",
   "metadata": {},
   "source": [
    "I wanted to use the full rating dataset from Kaggle, but it was over 100MB, so I decided to slice the data down to around 5000 users.\n",
    "\n",
    "I commented the code because I already saved the sliced dataset as a .csv file."
   ]
  },
  {
   "cell_type": "code",
   "execution_count": 53,
   "metadata": {},
   "outputs": [
    {
     "data": {
      "text/html": [
       "<div>\n",
       "<style scoped>\n",
       "    .dataframe tbody tr th:only-of-type {\n",
       "        vertical-align: middle;\n",
       "    }\n",
       "\n",
       "    .dataframe tbody tr th {\n",
       "        vertical-align: top;\n",
       "    }\n",
       "\n",
       "    .dataframe thead th {\n",
       "        text-align: right;\n",
       "    }\n",
       "</style>\n",
       "<table border=\"1\" class=\"dataframe\">\n",
       "  <thead>\n",
       "    <tr style=\"text-align: right;\">\n",
       "      <th></th>\n",
       "      <th>user_id</th>\n",
       "      <th>anime_id</th>\n",
       "      <th>rating</th>\n",
       "    </tr>\n",
       "  </thead>\n",
       "  <tbody>\n",
       "    <tr>\n",
       "      <th>491239</th>\n",
       "      <td>5000</td>\n",
       "      <td>31043</td>\n",
       "      <td>9</td>\n",
       "    </tr>\n",
       "    <tr>\n",
       "      <th>491240</th>\n",
       "      <td>5000</td>\n",
       "      <td>31442</td>\n",
       "      <td>7</td>\n",
       "    </tr>\n",
       "    <tr>\n",
       "      <th>491241</th>\n",
       "      <td>5000</td>\n",
       "      <td>31637</td>\n",
       "      <td>8</td>\n",
       "    </tr>\n",
       "    <tr>\n",
       "      <th>491242</th>\n",
       "      <td>5000</td>\n",
       "      <td>31859</td>\n",
       "      <td>10</td>\n",
       "    </tr>\n",
       "    <tr>\n",
       "      <th>491243</th>\n",
       "      <td>5000</td>\n",
       "      <td>32245</td>\n",
       "      <td>8</td>\n",
       "    </tr>\n",
       "  </tbody>\n",
       "</table>\n",
       "</div>"
      ],
      "text/plain": [
       "        user_id  anime_id  rating\n",
       "491239     5000     31043       9\n",
       "491240     5000     31442       7\n",
       "491241     5000     31637       8\n",
       "491242     5000     31859      10\n",
       "491243     5000     32245       8"
      ]
     },
     "execution_count": 53,
     "metadata": {},
     "output_type": "execute_result"
    }
   ],
   "source": [
    "#for slicing the big dataset into a more manageable size\n",
    "# ratings_df = pd.read_csv('rating.csv')\n",
    "# ratings_df = ratings_df.iloc[0:491244, 0:3]\n",
    "# ratings_df.to_csv(\"selected_user_anime_ratings.csv\", index = False)\n",
    "# ratings_df.tail()"
   ]
  },
  {
   "cell_type": "code",
   "execution_count": 91,
   "metadata": {},
   "outputs": [
    {
     "name": "stdout",
     "output_type": "stream",
     "text": [
      "<class 'pandas.core.frame.DataFrame'>\n",
      "RangeIndex: 12294 entries, 0 to 12293\n",
      "Data columns (total 3 columns):\n",
      " #   Column    Non-Null Count  Dtype \n",
      "---  ------    --------------  ----- \n",
      " 0   anime_id  12294 non-null  int64 \n",
      " 1   name      12294 non-null  object\n",
      " 2   genre     12232 non-null  object\n",
      "dtypes: int64(1), object(2)\n",
      "memory usage: 288.3+ KB\n"
     ]
    },
    {
     "name": "stderr",
     "output_type": "stream",
     "text": [
      "C:\\Users\\10\\AppData\\Local\\Temp\\ipykernel_12260\\3203783675.py:3: FutureWarning: In a future version of pandas all arguments of DataFrame.drop except for the argument 'labels' will be keyword-only.\n",
      "  anime_df = anime_df.drop([\"type\", \"episodes\", \"rating\", \"members\"], 1)\n"
     ]
    }
   ],
   "source": [
    "#dropping unneeded data from the anime csv file\n",
    "anime_df = pd.read_csv('anime.csv')\n",
    "anime_df = anime_df.drop([\"type\", \"episodes\", \"rating\", \"members\"], 1)\n",
    "anime_df.info()"
   ]
  },
  {
   "cell_type": "code",
   "execution_count": 92,
   "metadata": {},
   "outputs": [
    {
     "name": "stdout",
     "output_type": "stream",
     "text": [
      "<class 'pandas.core.frame.DataFrame'>\n",
      "RangeIndex: 491244 entries, 0 to 491243\n",
      "Data columns (total 3 columns):\n",
      " #   Column    Non-Null Count   Dtype\n",
      "---  ------    --------------   -----\n",
      " 0   user_id   491244 non-null  int64\n",
      " 1   anime_id  491244 non-null  int64\n",
      " 2   rating    491244 non-null  int64\n",
      "dtypes: int64(3)\n",
      "memory usage: 11.2 MB\n"
     ]
    }
   ],
   "source": [
    "ratings_df = pd.read_csv('selected_user_anime_ratings.csv')\n",
    "ratings_df.info()"
   ]
  },
  {
   "cell_type": "code",
   "execution_count": 123,
   "metadata": {},
   "outputs": [
    {
     "data": {
      "text/plain": [
       "anime_id    False\n",
       "name        False\n",
       "genre       False\n",
       "dtype: bool"
      ]
     },
     "execution_count": 123,
     "metadata": {},
     "output_type": "execute_result"
    }
   ],
   "source": [
    "anime_df.isnull().any()"
   ]
  },
  {
   "cell_type": "code",
   "execution_count": 121,
   "metadata": {},
   "outputs": [],
   "source": [
    "anime_df.dropna(subset= [\"genre\"], inplace= True)"
   ]
  },
  {
   "cell_type": "code",
   "execution_count": 124,
   "metadata": {},
   "outputs": [
    {
     "data": {
      "text/plain": [
       "anime_id    False\n",
       "name        False\n",
       "genre       False\n",
       "dtype: bool"
      ]
     },
     "execution_count": 124,
     "metadata": {},
     "output_type": "execute_result"
    }
   ],
   "source": [
    "anime_df.isnull().any()"
   ]
  },
  {
   "cell_type": "code",
   "execution_count": 125,
   "metadata": {},
   "outputs": [
    {
     "data": {
      "text/plain": [
       "False"
      ]
     },
     "execution_count": 125,
     "metadata": {},
     "output_type": "execute_result"
    }
   ],
   "source": [
    "ratings_df.isnull().values.any()"
   ]
  },
  {
   "cell_type": "code",
   "execution_count": 95,
   "metadata": {},
   "outputs": [
    {
     "name": "stdout",
     "output_type": "stream",
     "text": [
      "                               name  rating\n",
      "0  Fullmetal Alchemist: Brotherhood       9\n",
      "1                          Mushishi       9\n",
      "2                    Mob Psycho 100       8\n",
      "3             Boku no Hero Academia       5\n",
      "4                 Acchi Kocchi (TV)       4\n"
     ]
    }
   ],
   "source": [
    "userInput = [{'name':'Fullmetal Alchemist: Brotherhood', 'rating':9},\n",
    "             {'name':'Mushishi', 'rating': 9},\n",
    "             {'name':'Mob Psycho 100', 'rating':8},\n",
    "             {'name':'Boku no Hero Academia', 'rating':5},\n",
    "             {'name':'Acchi Kocchi (TV)', 'rating':4}]\n",
    "inputAnime = pd.DataFrame(userInput)\n",
    "print(inputAnime)"
   ]
  },
  {
   "cell_type": "code",
   "execution_count": 97,
   "metadata": {},
   "outputs": [
    {
     "name": "stdout",
     "output_type": "stream",
     "text": [
      "   anime_id                              name  rating\n",
      "0      5114  Fullmetal Alchemist: Brotherhood       9\n",
      "1       457                          Mushishi       9\n",
      "2     32182                    Mob Psycho 100       8\n",
      "3     31964             Boku no Hero Academia       5\n",
      "4     12291                 Acchi Kocchi (TV)       4\n"
     ]
    },
    {
     "name": "stderr",
     "output_type": "stream",
     "text": [
      "C:\\Users\\10\\AppData\\Local\\Temp\\ipykernel_12260\\3925376108.py:4: FutureWarning: In a future version of pandas all arguments of DataFrame.drop except for the argument 'labels' will be keyword-only.\n",
      "  inputAnime = inputAnime.drop(\"genre\", 1)\n"
     ]
    }
   ],
   "source": [
    "#dropping unneeded columns\n",
    "inputId = anime_df[anime_df['name'].isin(inputAnime['name'].tolist())]\n",
    "inputAnime = pd.merge(inputId, inputAnime)\n",
    "inputAnime = inputAnime.drop(\"genre\", 1)\n",
    "inputAnime = inputAnime[['anime_id','name','rating']]\n",
    "print(inputAnime)"
   ]
  },
  {
   "cell_type": "code",
   "execution_count": 98,
   "metadata": {},
   "outputs": [
    {
     "name": "stdout",
     "output_type": "stream",
     "text": [
      "          user_id  rating\n",
      "anime_id                 \n",
      "457           405     405\n",
      "5114         1849    1849\n",
      "12291         302     302\n",
      "31964         502     502\n",
      "32182         277     277\n"
     ]
    }
   ],
   "source": [
    "userSubset = ratings_df[ratings_df['anime_id'].isin(inputAnime['anime_id'].tolist())]\n",
    "print(userSubset.groupby('anime_id').count())"
   ]
  },
  {
   "cell_type": "code",
   "execution_count": 99,
   "metadata": {},
   "outputs": [
    {
     "name": "stdout",
     "output_type": "stream",
     "text": [
      "[(492,        user_id  anime_id  rating\n",
      "46098      492       457       8\n",
      "46135      492      5114       7\n",
      "46227      492     12291       8\n",
      "46450      492     31964       8\n",
      "46453      492     32182       8), (1176,         user_id  anime_id  rating\n",
      "114655     1176       457       9\n",
      "114768     1176      5114       9\n",
      "114912     1176     12291       7\n",
      "115228     1176     31964       8\n",
      "115232     1176     32182       8), (1344,         user_id  anime_id  rating\n",
      "133036     1344       457       8\n",
      "133348     1344      5114      10\n",
      "133682     1344     12291       6\n",
      "134148     1344     31964       9\n",
      "134157     1344     32182       8), (1504,         user_id  anime_id  rating\n",
      "149250     1504       457      10\n",
      "149382     1504      5114      10\n",
      "149535     1504     12291       7\n",
      "149771     1504     31964       9\n",
      "149774     1504     32182       9), (1549,         user_id  anime_id  rating\n",
      "155436     1549       457      10\n",
      "155489     1549      5114      10\n",
      "155568     1549     12291      10\n",
      "155890     1549     31964      10\n",
      "155893     1549     32182       7)]\n"
     ]
    },
    {
     "name": "stderr",
     "output_type": "stream",
     "text": [
      "C:\\Users\\10\\AppData\\Local\\Temp\\ipykernel_12260\\2638597286.py:10: FutureWarning: In a future version of pandas, a length 1 tuple will be returned when iterating over a groupby with a grouper equal to a list of length 1. Don't supply a list with a single grouper to avoid this warning.\n",
      "  userSubsetGroup = sorted(userSubsetGroup, key=take_5_elem, reverse=True)\n"
     ]
    }
   ],
   "source": [
    "#Groupby creates several sub dataframes where they all have the same value in the column specified as the parameter\n",
    "userSubsetGroup = userSubset.groupby(['user_id'])\n",
    "\n",
    "def take_5_elem(x):\n",
    "    # print (len(x[1]))\n",
    "    return len(x[1])\n",
    "    \n",
    "\n",
    "#Sorting it so users with movie most in common with the input will have priority\n",
    "userSubsetGroup = sorted(userSubsetGroup, key=take_5_elem, reverse=True)\n",
    "\n",
    "userSubsetGroup = userSubsetGroup[0:100]\n",
    "print(userSubsetGroup[0:5])"
   ]
  },
  {
   "cell_type": "code",
   "execution_count": 100,
   "metadata": {},
   "outputs": [],
   "source": [
    "pearsonCorrelationDict = {}\n",
    "for name, group in userSubsetGroup:\n",
    "\n",
    "    group = group.sort_values(by='anime_id')\n",
    "    inputAnime = inputAnime.sort_values(by='anime_id')\n",
    "\n",
    "    nRatings = len(group)\n",
    "\n",
    "    temp_df = inputAnime[inputAnime['anime_id'].isin(group['anime_id'].tolist())]\n",
    "\n",
    "    tempRatingList = temp_df['rating'].tolist()\n",
    "\n",
    "    tempGroupList = group['rating'].tolist()\n",
    "   \n",
    "    Sxx = sum([i**2 for i in tempRatingList]) - pow(sum(tempRatingList),2)/float(nRatings)\n",
    "    Syy = sum([i**2 for i in tempGroupList]) - pow(sum(tempGroupList),2)/float(nRatings)\n",
    "    Sxy = sum( i*j for i, j in zip(tempRatingList, tempGroupList)) - sum(tempRatingList)*sum(tempGroupList)/float(nRatings)\n",
    "\n",
    "    if Sxx != 0 and Syy != 0:\n",
    "        pearsonCorrelationDict[name] = Sxy/sqrt(Sxx*Syy)\n",
    "    else:\n",
    "        pearsonCorrelationDict[name] = 0"
   ]
  },
  {
   "cell_type": "code",
   "execution_count": 101,
   "metadata": {},
   "outputs": [
    {
     "name": "stdout",
     "output_type": "stream",
     "text": [
      "   similarity_index  user_id\n",
      "0         -0.476731      492\n",
      "1          0.891883     1176\n",
      "2          0.574960     1344\n",
      "3          0.870388     1504\n",
      "4         -0.238366     1549\n"
     ]
    }
   ],
   "source": [
    "pearsonDF = pd.DataFrame.from_dict(pearsonCorrelationDict, orient='index')\n",
    "pearsonDF.columns = ['similarity_index']\n",
    "pearsonDF['user_id'] = pearsonDF.index\n",
    "pearsonDF.index = range(len(pearsonDF))\n",
    "print(pearsonDF.head())"
   ]
  },
  {
   "cell_type": "code",
   "execution_count": 102,
   "metadata": {},
   "outputs": [
    {
     "name": "stdout",
     "output_type": "stream",
     "text": [
      "    similarity_index  user_id\n",
      "76          1.000000      530\n",
      "9           0.996116      562\n",
      "78          0.989743      578\n",
      "66          0.981981      244\n",
      "74          0.981981      444\n"
     ]
    }
   ],
   "source": [
    "topUsers=pearsonDF.sort_values(by='similarity_index', ascending=False)[0:50]\n",
    "print(topUsers.head())"
   ]
  },
  {
   "cell_type": "code",
   "execution_count": 103,
   "metadata": {},
   "outputs": [
    {
     "name": "stdout",
     "output_type": "stream",
     "text": [
      "    similarity_index  user_id  anime_id  rating\n",
      "0                1.0      530         1       8\n",
      "1                1.0      530        25       9\n",
      "2                1.0      530        30      10\n",
      "3                1.0      530        32      10\n",
      "4                1.0      530        43      10\n",
      "..               ...      ...       ...     ...\n",
      "95               1.0      530      4654      10\n",
      "96               1.0      530      4672      10\n",
      "97               1.0      530      4715       9\n",
      "98               1.0      530      4896       7\n",
      "99               1.0      530      4938      10\n",
      "\n",
      "[100 rows x 4 columns]\n"
     ]
    }
   ],
   "source": [
    "topUsersRating=topUsers.merge(ratings_df, left_on='user_id', right_on='user_id', how='inner')\n",
    "print(topUsersRating.head(100))"
   ]
  },
  {
   "cell_type": "code",
   "execution_count": 104,
   "metadata": {},
   "outputs": [
    {
     "name": "stdout",
     "output_type": "stream",
     "text": [
      "   similarity_index  user_id  anime_id  rating  weighted_rating\n",
      "0               1.0      530         1       8              8.0\n",
      "1               1.0      530        25       9              9.0\n",
      "2               1.0      530        30      10             10.0\n",
      "3               1.0      530        32      10             10.0\n",
      "4               1.0      530        43      10             10.0\n"
     ]
    }
   ],
   "source": [
    "topUsersRating['weighted_rating'] = topUsersRating['similarity_index']*topUsersRating['rating']\n",
    "print(topUsersRating.head())"
   ]
  },
  {
   "cell_type": "code",
   "execution_count": 105,
   "metadata": {},
   "outputs": [
    {
     "name": "stdout",
     "output_type": "stream",
     "text": [
      "         sum_similarity_index  sum_weighted_rating\n",
      "user_id                                           \n",
      "17                 577.422123          2512.410733\n",
      "38                 245.593512          1646.350182\n",
      "123                322.419489          2274.964180\n",
      "244                272.008600          2374.428864\n",
      "271                326.278163          2405.416306\n"
     ]
    }
   ],
   "source": [
    "tempTopUsersRating = topUsersRating.groupby('user_id').sum()[['similarity_index','weighted_rating']]\n",
    "tempTopUsersRating.columns = ['sum_similarity_index','sum_weighted_rating']\n",
    "print(tempTopUsersRating.head())"
   ]
  },
  {
   "cell_type": "code",
   "execution_count": 106,
   "metadata": {},
   "outputs": [
    {
     "name": "stdout",
     "output_type": "stream",
     "text": [
      "         weighted average recommendation score  anime_id\n",
      "user_id                                                 \n",
      "17                                    4.351082        17\n",
      "38                                    6.703557        38\n",
      "123                                   7.055914       123\n",
      "244                                   8.729242       244\n",
      "271                                   7.372287       271\n",
      "294                                   7.922963       294\n",
      "321                                   8.073090       321\n",
      "444                                   7.611511       444\n",
      "455                                   7.070175       455\n",
      "530                                   8.301829       530\n"
     ]
    }
   ],
   "source": [
    "recommendation_df = pd.DataFrame()\n",
    "\n",
    "recommendation_df['weighted average recommendation score'] = tempTopUsersRating['sum_weighted_rating']/tempTopUsersRating['sum_similarity_index']\n",
    "recommendation_df['anime_id'] = tempTopUsersRating.index\n",
    "print(recommendation_df.head(10))"
   ]
  },
  {
   "cell_type": "code",
   "execution_count": 107,
   "metadata": {},
   "outputs": [
    {
     "name": "stdout",
     "output_type": "stream",
     "text": [
      "         weighted average recommendation score  anime_id\n",
      "user_id                                                 \n",
      "1058                                  9.081013      1058\n",
      "3657                                  8.856476      3657\n",
      "244                                   8.729242       244\n",
      "825                                   8.579882       825\n",
      "680                                   8.564706       680\n",
      "1753                                  8.541463      1753\n",
      "530                                   8.301829       530\n",
      "904                                   8.273585       904\n",
      "3169                                  8.125000      3169\n",
      "1504                                  8.123023      1504\n",
      "3981                                  8.095541      3981\n",
      "1015                                  8.081967      1015\n",
      "321                                   8.073090       321\n",
      "4740                                  8.000000      4740\n",
      "963                                   7.974638       963\n",
      "294                                   7.922963       294\n",
      "4350                                  7.892250      4350\n",
      "4316                                  7.857923      4316\n",
      "946                                   7.700565       946\n",
      "561                                   7.615385       561\n",
      "444                                   7.611511       444\n",
      "578                                   7.581395       578\n",
      "3278                                  7.554896      3278\n",
      "4005                                  7.509346      4005\n",
      "562                                   7.459854       562\n",
      "2933                                  7.457875      2933\n",
      "271                                   7.372287       271\n",
      "634                                   7.162011       634\n",
      "4081                                  7.123967      4081\n",
      "784                                   7.082927       784\n",
      "455                                   7.070175       455\n",
      "123                                   7.055914       123\n",
      "2298                                  7.023256      2298\n",
      "1237                                  6.975207      1237\n",
      "2273                                  6.875385      2273\n",
      "768                                   6.722380       768\n",
      "38                                    6.703557        38\n",
      "2555                                  6.658182      2555\n",
      "4064                                  6.286585      4064\n",
      "1176                                  6.198413      1176\n",
      "4437                                  6.037433      4437\n",
      "3569                                  5.903922      3569\n",
      "1327                                  5.888889      1327\n",
      "771                                   5.407874       771\n",
      "1145                                  5.061256      1145\n",
      "17                                    4.351082        17\n",
      "1344                                  4.274027      1344\n",
      "4010                                  4.244275      4010\n",
      "611                                   3.606977       611\n",
      "1026                                  3.363636      1026\n"
     ]
    }
   ],
   "source": [
    "recommendation_df = recommendation_df.sort_values(by='weighted average recommendation score', ascending=False)\n",
    "print(recommendation_df)"
   ]
  },
  {
   "cell_type": "code",
   "execution_count": 111,
   "metadata": {},
   "outputs": [
    {
     "data": {
      "text/html": [
       "<div>\n",
       "<style scoped>\n",
       "    .dataframe tbody tr th:only-of-type {\n",
       "        vertical-align: middle;\n",
       "    }\n",
       "\n",
       "    .dataframe tbody tr th {\n",
       "        vertical-align: top;\n",
       "    }\n",
       "\n",
       "    .dataframe thead th {\n",
       "        text-align: right;\n",
       "    }\n",
       "</style>\n",
       "<table border=\"1\" class=\"dataframe\">\n",
       "  <thead>\n",
       "    <tr style=\"text-align: right;\">\n",
       "      <th></th>\n",
       "      <th>anime_id</th>\n",
       "      <th>name</th>\n",
       "      <th>genre</th>\n",
       "    </tr>\n",
       "  </thead>\n",
       "  <tbody>\n",
       "    <tr>\n",
       "      <th>71</th>\n",
       "      <td>578</td>\n",
       "      <td>Hotaru no Haka</td>\n",
       "      <td>Drama, Historical</td>\n",
       "    </tr>\n",
       "    <tr>\n",
       "      <th>142</th>\n",
       "      <td>4081</td>\n",
       "      <td>Natsume Yuujinchou</td>\n",
       "      <td>Drama, Fantasy, Shoujo, Slice of Life, Superna...</td>\n",
       "    </tr>\n",
       "    <tr>\n",
       "      <th>614</th>\n",
       "      <td>2273</td>\n",
       "      <td>Mobile Suit Gundam Wing: Endless Waltz Movie</td>\n",
       "      <td>Action, Drama, Mecha, Military, Sci-Fi, Space</td>\n",
       "    </tr>\n",
       "    <tr>\n",
       "      <th>766</th>\n",
       "      <td>444</td>\n",
       "      <td>Maria-sama ga Miteru: Haru</td>\n",
       "      <td>Drama, Romance, School, Shoujo, Shoujo Ai</td>\n",
       "    </tr>\n",
       "    <tr>\n",
       "      <th>886</th>\n",
       "      <td>1015</td>\n",
       "      <td>Full Metal Panic! The Second Raid: Wari to Him...</td>\n",
       "      <td>Comedy</td>\n",
       "    </tr>\n",
       "    <tr>\n",
       "      <th>912</th>\n",
       "      <td>123</td>\n",
       "      <td>Fushigi Yuugi</td>\n",
       "      <td>Adventure, Comedy, Drama, Fantasy, Historical,...</td>\n",
       "    </tr>\n",
       "    <tr>\n",
       "      <th>976</th>\n",
       "      <td>17</td>\n",
       "      <td>Hungry Heart: Wild Striker</td>\n",
       "      <td>Comedy, Shounen, Slice of Life, Sports</td>\n",
       "    </tr>\n",
       "    <tr>\n",
       "      <th>1028</th>\n",
       "      <td>530</td>\n",
       "      <td>Bishoujo Senshi Sailor Moon</td>\n",
       "      <td>Demons, Magic, Romance, Shoujo</td>\n",
       "    </tr>\n",
       "    <tr>\n",
       "      <th>1114</th>\n",
       "      <td>455</td>\n",
       "      <td>Fantastic Children</td>\n",
       "      <td>Adventure, Fantasy, Mystery, Romance, Sci-Fi</td>\n",
       "    </tr>\n",
       "    <tr>\n",
       "      <th>1463</th>\n",
       "      <td>1327</td>\n",
       "      <td>Aoki Densetsu Shoot!</td>\n",
       "      <td>Action, Comedy, Drama, Romance, School, Shoune...</td>\n",
       "    </tr>\n",
       "    <tr>\n",
       "      <th>1767</th>\n",
       "      <td>2555</td>\n",
       "      <td>Shoukoushi Cedie</td>\n",
       "      <td>Drama, Shoujo, Slice of Life</td>\n",
       "    </tr>\n",
       "    <tr>\n",
       "      <th>1828</th>\n",
       "      <td>4437</td>\n",
       "      <td>Naruto: Shippuuden Movie 2 - Kizuna</td>\n",
       "      <td>Action, Martial Arts, Shounen, Supernatural</td>\n",
       "    </tr>\n",
       "    <tr>\n",
       "      <th>1829</th>\n",
       "      <td>1237</td>\n",
       "      <td>One Piece: Oounabara ni Hirake! Dekkai Dekkai ...</td>\n",
       "      <td>Action, Adventure, Comedy, Fantasy, Shounen, S...</td>\n",
       "    </tr>\n",
       "    <tr>\n",
       "      <th>2083</th>\n",
       "      <td>963</td>\n",
       "      <td>Love Hina: Motoko no Sentaku, Koi ka Ken... &amp;q...</td>\n",
       "      <td>Drama, Romance, Slice of Life</td>\n",
       "    </tr>\n",
       "    <tr>\n",
       "      <th>2152</th>\n",
       "      <td>634</td>\n",
       "      <td>Koi Kaze</td>\n",
       "      <td>Drama, Psychological, Romance, Seinen</td>\n",
       "    </tr>\n",
       "    <tr>\n",
       "      <th>2406</th>\n",
       "      <td>1145</td>\n",
       "      <td>Kaze no Youjinbou</td>\n",
       "      <td>Action, Drama, Mystery, Shounen</td>\n",
       "    </tr>\n",
       "    <tr>\n",
       "      <th>2800</th>\n",
       "      <td>2298</td>\n",
       "      <td>Mobile Suit Gundam Seed: After-Phase Between t...</td>\n",
       "      <td>Action, Drama, Mecha, Sci-Fi</td>\n",
       "    </tr>\n",
       "    <tr>\n",
       "      <th>3257</th>\n",
       "      <td>1504</td>\n",
       "      <td>Macross Flash Back 2012</td>\n",
       "      <td>Drama, Mecha, Military, Sci-Fi</td>\n",
       "    </tr>\n",
       "    <tr>\n",
       "      <th>3388</th>\n",
       "      <td>561</td>\n",
       "      <td>Sakura Taisen</td>\n",
       "      <td>Adventure, Mecha, Sci-Fi, Shounen</td>\n",
       "    </tr>\n",
       "    <tr>\n",
       "      <th>3545</th>\n",
       "      <td>244</td>\n",
       "      <td>Agatha Christie no Meitantei Poirot to Marple</td>\n",
       "      <td>Historical, Mystery</td>\n",
       "    </tr>\n",
       "    <tr>\n",
       "      <th>3659</th>\n",
       "      <td>2933</td>\n",
       "      <td>Mirai Keisatsu Urashiman</td>\n",
       "      <td>Comedy, Police, Sci-Fi</td>\n",
       "    </tr>\n",
       "    <tr>\n",
       "      <th>3942</th>\n",
       "      <td>771</td>\n",
       "      <td>Ginyuu Mokushiroku Meine Liebe Wieder</td>\n",
       "      <td>Drama, Fantasy, Shoujo</td>\n",
       "    </tr>\n",
       "    <tr>\n",
       "      <th>4018</th>\n",
       "      <td>271</td>\n",
       "      <td>Gad Guard</td>\n",
       "      <td>Adventure, Mecha, Sci-Fi, Shounen</td>\n",
       "    </tr>\n",
       "    <tr>\n",
       "      <th>4961</th>\n",
       "      <td>562</td>\n",
       "      <td>Sakura Taisen: Le Nouveau Paris</td>\n",
       "      <td>Adventure, Mecha, Sci-Fi, Shounen</td>\n",
       "    </tr>\n",
       "    <tr>\n",
       "      <th>4999</th>\n",
       "      <td>4316</td>\n",
       "      <td>Nanami-chan 3rd Series</td>\n",
       "      <td>Comedy, Kids</td>\n",
       "    </tr>\n",
       "    <tr>\n",
       "      <th>5316</th>\n",
       "      <td>1753</td>\n",
       "      <td>Di Gi Charat: Kuchi Kara Bazooka</td>\n",
       "      <td>Comedy</td>\n",
       "    </tr>\n",
       "    <tr>\n",
       "      <th>5387</th>\n",
       "      <td>825</td>\n",
       "      <td>King of Fighters: Another Day</td>\n",
       "      <td>Adventure, Drama, Shounen</td>\n",
       "    </tr>\n",
       "    <tr>\n",
       "      <th>5550</th>\n",
       "      <td>3278</td>\n",
       "      <td>Kinnikuman: New York Kiki Ippatsu!</td>\n",
       "      <td>Action, Comedy, Shounen, Sports</td>\n",
       "    </tr>\n",
       "    <tr>\n",
       "      <th>5680</th>\n",
       "      <td>1344</td>\n",
       "      <td>Eightman After</td>\n",
       "      <td>Action, Drama, Sci-Fi</td>\n",
       "    </tr>\n",
       "    <tr>\n",
       "      <th>5999</th>\n",
       "      <td>904</td>\n",
       "      <td>Dragon Ball Z Movie 11: Super Senshi Gekiha!! ...</td>\n",
       "      <td>Action, Adventure, Comedy, Fantasy, Martial Ar...</td>\n",
       "    </tr>\n",
       "    <tr>\n",
       "      <th>6127</th>\n",
       "      <td>1026</td>\n",
       "      <td>Yakumo Tatsu</td>\n",
       "      <td>Adventure, Historical, Horror, Shoujo, Superna...</td>\n",
       "    </tr>\n",
       "    <tr>\n",
       "      <th>6507</th>\n",
       "      <td>294</td>\n",
       "      <td>Divergence Eve</td>\n",
       "      <td>Adventure, Comedy, Drama, Mecha, Military, Sci...</td>\n",
       "    </tr>\n",
       "    <tr>\n",
       "      <th>6517</th>\n",
       "      <td>321</td>\n",
       "      <td>Najica Dengeki Sakusen</td>\n",
       "      <td>Action, Comedy, Ecchi, Sci-Fi</td>\n",
       "    </tr>\n",
       "    <tr>\n",
       "      <th>6829</th>\n",
       "      <td>1176</td>\n",
       "      <td>Unkai no Meikyuu Zeguy</td>\n",
       "      <td>Action, Adventure, Fantasy</td>\n",
       "    </tr>\n",
       "    <tr>\n",
       "      <th>6967</th>\n",
       "      <td>611</td>\n",
       "      <td>Platonic Chain</td>\n",
       "      <td>Sci-Fi, Slice of Life</td>\n",
       "    </tr>\n",
       "    <tr>\n",
       "      <th>6983</th>\n",
       "      <td>1058</td>\n",
       "      <td>Kidou Shinsengumi Moeyo Ken</td>\n",
       "      <td>Adventure, Comedy, Historical</td>\n",
       "    </tr>\n",
       "    <tr>\n",
       "      <th>11278</th>\n",
       "      <td>4010</td>\n",
       "      <td>Alignment You! You! The Animation</td>\n",
       "      <td>Demons, Hentai, School, Supernatural</td>\n",
       "    </tr>\n",
       "    <tr>\n",
       "      <th>11841</th>\n",
       "      <td>3569</td>\n",
       "      <td>Injuu Seisen: Twin Angels</td>\n",
       "      <td>Hentai, Horror</td>\n",
       "    </tr>\n",
       "    <tr>\n",
       "      <th>11950</th>\n",
       "      <td>4350</td>\n",
       "      <td>Megami Kyouju</td>\n",
       "      <td>Hentai, Horror, Military, Sci-Fi, Supernatural</td>\n",
       "    </tr>\n",
       "    <tr>\n",
       "      <th>12162</th>\n",
       "      <td>3981</td>\n",
       "      <td>Shokuzai no Kyoushitsu</td>\n",
       "      <td>Hentai</td>\n",
       "    </tr>\n",
       "  </tbody>\n",
       "</table>\n",
       "</div>"
      ],
      "text/plain": [
       "       anime_id                                               name  \\\n",
       "71          578                                     Hotaru no Haka   \n",
       "142        4081                                 Natsume Yuujinchou   \n",
       "614        2273       Mobile Suit Gundam Wing: Endless Waltz Movie   \n",
       "766         444                         Maria-sama ga Miteru: Haru   \n",
       "886        1015  Full Metal Panic! The Second Raid: Wari to Him...   \n",
       "912         123                                      Fushigi Yuugi   \n",
       "976          17                         Hungry Heart: Wild Striker   \n",
       "1028        530                        Bishoujo Senshi Sailor Moon   \n",
       "1114        455                                 Fantastic Children   \n",
       "1463       1327                               Aoki Densetsu Shoot!   \n",
       "1767       2555                                   Shoukoushi Cedie   \n",
       "1828       4437                Naruto: Shippuuden Movie 2 - Kizuna   \n",
       "1829       1237  One Piece: Oounabara ni Hirake! Dekkai Dekkai ...   \n",
       "2083        963  Love Hina: Motoko no Sentaku, Koi ka Ken... &q...   \n",
       "2152        634                                           Koi Kaze   \n",
       "2406       1145                                  Kaze no Youjinbou   \n",
       "2800       2298  Mobile Suit Gundam Seed: After-Phase Between t...   \n",
       "3257       1504                            Macross Flash Back 2012   \n",
       "3388        561                                      Sakura Taisen   \n",
       "3545        244      Agatha Christie no Meitantei Poirot to Marple   \n",
       "3659       2933                           Mirai Keisatsu Urashiman   \n",
       "3942        771              Ginyuu Mokushiroku Meine Liebe Wieder   \n",
       "4018        271                                          Gad Guard   \n",
       "4961        562                    Sakura Taisen: Le Nouveau Paris   \n",
       "4999       4316                             Nanami-chan 3rd Series   \n",
       "5316       1753                   Di Gi Charat: Kuchi Kara Bazooka   \n",
       "5387        825                      King of Fighters: Another Day   \n",
       "5550       3278                 Kinnikuman: New York Kiki Ippatsu!   \n",
       "5680       1344                                     Eightman After   \n",
       "5999        904  Dragon Ball Z Movie 11: Super Senshi Gekiha!! ...   \n",
       "6127       1026                                       Yakumo Tatsu   \n",
       "6507        294                                     Divergence Eve   \n",
       "6517        321                             Najica Dengeki Sakusen   \n",
       "6829       1176                             Unkai no Meikyuu Zeguy   \n",
       "6967        611                                     Platonic Chain   \n",
       "6983       1058                        Kidou Shinsengumi Moeyo Ken   \n",
       "11278      4010                  Alignment You! You! The Animation   \n",
       "11841      3569                          Injuu Seisen: Twin Angels   \n",
       "11950      4350                                      Megami Kyouju   \n",
       "12162      3981                             Shokuzai no Kyoushitsu   \n",
       "\n",
       "                                                   genre  \n",
       "71                                     Drama, Historical  \n",
       "142    Drama, Fantasy, Shoujo, Slice of Life, Superna...  \n",
       "614        Action, Drama, Mecha, Military, Sci-Fi, Space  \n",
       "766            Drama, Romance, School, Shoujo, Shoujo Ai  \n",
       "886                                               Comedy  \n",
       "912    Adventure, Comedy, Drama, Fantasy, Historical,...  \n",
       "976               Comedy, Shounen, Slice of Life, Sports  \n",
       "1028                      Demons, Magic, Romance, Shoujo  \n",
       "1114        Adventure, Fantasy, Mystery, Romance, Sci-Fi  \n",
       "1463   Action, Comedy, Drama, Romance, School, Shoune...  \n",
       "1767                        Drama, Shoujo, Slice of Life  \n",
       "1828         Action, Martial Arts, Shounen, Supernatural  \n",
       "1829   Action, Adventure, Comedy, Fantasy, Shounen, S...  \n",
       "2083                       Drama, Romance, Slice of Life  \n",
       "2152               Drama, Psychological, Romance, Seinen  \n",
       "2406                     Action, Drama, Mystery, Shounen  \n",
       "2800                        Action, Drama, Mecha, Sci-Fi  \n",
       "3257                      Drama, Mecha, Military, Sci-Fi  \n",
       "3388                   Adventure, Mecha, Sci-Fi, Shounen  \n",
       "3545                                 Historical, Mystery  \n",
       "3659                              Comedy, Police, Sci-Fi  \n",
       "3942                              Drama, Fantasy, Shoujo  \n",
       "4018                   Adventure, Mecha, Sci-Fi, Shounen  \n",
       "4961                   Adventure, Mecha, Sci-Fi, Shounen  \n",
       "4999                                        Comedy, Kids  \n",
       "5316                                              Comedy  \n",
       "5387                           Adventure, Drama, Shounen  \n",
       "5550                     Action, Comedy, Shounen, Sports  \n",
       "5680                               Action, Drama, Sci-Fi  \n",
       "5999   Action, Adventure, Comedy, Fantasy, Martial Ar...  \n",
       "6127   Adventure, Historical, Horror, Shoujo, Superna...  \n",
       "6507   Adventure, Comedy, Drama, Mecha, Military, Sci...  \n",
       "6517                       Action, Comedy, Ecchi, Sci-Fi  \n",
       "6829                          Action, Adventure, Fantasy  \n",
       "6967                               Sci-Fi, Slice of Life  \n",
       "6983                       Adventure, Comedy, Historical  \n",
       "11278               Demons, Hentai, School, Supernatural  \n",
       "11841                                     Hentai, Horror  \n",
       "11950     Hentai, Horror, Military, Sci-Fi, Supernatural  \n",
       "12162                                             Hentai  "
      ]
     },
     "execution_count": 111,
     "metadata": {},
     "output_type": "execute_result"
    }
   ],
   "source": [
    "recommended_anime=anime_df.loc[anime_df['anime_id'].isin(recommendation_df['anime_id'])]\n",
    "\n",
    "#we don't want to recommend the same movie\n",
    "recommended_anime=recommended_anime.loc[~recommended_anime.anime_id.isin(userSubset['anime_id'])]\n",
    "\n",
    "recommended_anime"
   ]
  }
 ],
 "metadata": {
  "kernelspec": {
   "display_name": "Python 3",
   "language": "python",
   "name": "python3"
  },
  "language_info": {
   "codemirror_mode": {
    "name": "ipython",
    "version": 3
   },
   "file_extension": ".py",
   "mimetype": "text/x-python",
   "name": "python",
   "nbconvert_exporter": "python",
   "pygments_lexer": "ipython3",
   "version": "3.10.2 (tags/v3.10.2:a58ebcc, Jan 17 2022, 14:12:15) [MSC v.1929 64 bit (AMD64)]"
  },
  "orig_nbformat": 4,
  "vscode": {
   "interpreter": {
    "hash": "b0ea0398bfc6d7f45abc68f44a548315348cf9ab79812a4dc9172071276c2fec"
   }
  }
 },
 "nbformat": 4,
 "nbformat_minor": 2
}
